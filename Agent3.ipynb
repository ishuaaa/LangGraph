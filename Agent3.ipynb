{
 "cells": [
  {
   "cell_type": "code",
   "execution_count": 1,
   "metadata": {},
   "outputs": [],
   "source": [
    "from typing import Dict , TypedDict, List\n",
    "from langgraph.graph import StateGraph"
   ]
  },
  {
   "cell_type": "code",
   "execution_count": 2,
   "metadata": {},
   "outputs": [],
   "source": [
    "class Agentstate(TypedDict):\n",
    "    name:str\n",
    "    age:str\n",
    "    result:str"
   ]
  },
  {
   "cell_type": "code",
   "execution_count": 9,
   "metadata": {},
   "outputs": [],
   "source": [
    "def first_node(state:Agentstate)->Agentstate:\n",
    "    state['result']=f\"hi your name is {state['name']}!\"\n",
    "    return state\n",
    "def second_node(state:Agentstate)->Agentstate:\n",
    "    state['result']=state['result']+ f\"your age is{state['age']}\"\n",
    "    return state"
   ]
  },
  {
   "cell_type": "code",
   "execution_count": 10,
   "metadata": {},
   "outputs": [],
   "source": [
    "graph= StateGraph(Agentstate)\n",
    "graph.add_node(\"names\",first_node)\n",
    "graph.add_node(\"ages\",second_node)\n",
    "graph.set_entry_point(\"names\")\n",
    "graph.add_edge(\"names\",\"ages\")\n",
    "graph.set_finish_point(\"ages\")\n",
    "app=graph.compile()"
   ]
  },
  {
   "cell_type": "code",
   "execution_count": 11,
   "metadata": {},
   "outputs": [
    {
     "name": "stdout",
     "output_type": "stream",
     "text": [
      "{'name': 'vidyansh', 'age': 20, 'result': 'hi your name is vidyansh!your age is20'}\n"
     ]
    }
   ],
   "source": [
    "result=app.invoke({\"name\":\"vidyansh\" , \"age\":20})\n",
    "print(result)"
   ]
  },
  {
   "cell_type": "code",
   "execution_count": null,
   "metadata": {},
   "outputs": [],
   "source": []
  }
 ],
 "metadata": {
  "kernelspec": {
   "display_name": "base",
   "language": "python",
   "name": "python3"
  },
  "language_info": {
   "codemirror_mode": {
    "name": "ipython",
    "version": 3
   },
   "file_extension": ".py",
   "mimetype": "text/x-python",
   "name": "python",
   "nbconvert_exporter": "python",
   "pygments_lexer": "ipython3",
   "version": "3.12.7"
  },
  "orig_nbformat": 4
 },
 "nbformat": 4,
 "nbformat_minor": 2
}
