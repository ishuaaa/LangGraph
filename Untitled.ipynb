{
 "cells": [
  {
   "cell_type": "code",
   "execution_count": null,
   "id": "b8966728-bcb5-4cea-9649-8312baf149f4",
   "metadata": {},
   "outputs": [],
   "source": []
  }
 ],
 "metadata": {
  "kernelspec": {
   "display_name": "",
   "name": ""
  },
  "language_info": {
   "name": ""
  }
 },
 "nbformat": 4,
 "nbformat_minor": 5
}
