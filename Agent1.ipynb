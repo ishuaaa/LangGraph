{
 "cells": [
  {
   "cell_type": "code",
   "execution_count": 2,
   "id": "b8966728-bcb5-4cea-9649-8312baf149f4",
   "metadata": {},
   "outputs": [],
   "source": [
    "from typing import Dict , TypedDict\n",
    "from langgraph.graph import StateGraph"
   ]
  },
  {
   "cell_type": "code",
   "execution_count": 9,
   "id": "e1ab0188",
   "metadata": {},
   "outputs": [],
   "source": [
    "#we create an angent state first\n",
    "\n",
    "class Agentstate(TypedDict):\n",
    "    message:str\n",
    "\n",
    "def greet_msg(state:Agentstate)->Agentstate:\n",
    "    state['message'] = \"Hey \"+ state['message'] + \", how is your day going\"\n",
    "    return state\n",
    "     \n"
   ]
  },
  {
   "cell_type": "code",
   "execution_count": 10,
   "id": "a68e5682",
   "metadata": {},
   "outputs": [],
   "source": [
    "graph = StateGraph(Agentstate)\n",
    "graph.add_node(\"greeter\",greet_msg)\n",
    "graph.set_entry_point(\"greeter\")\n",
    "graph.set_finish_point(\"greeter\")\n",
    "app = graph.compile()"
   ]
  },
  {
   "cell_type": "code",
   "execution_count": 11,
   "id": "19b53f39",
   "metadata": {},
   "outputs": [],
   "source": [
    "result=app.invoke({\"message\":\"vidyansh\"})\n"
   ]
  },
  {
   "cell_type": "code",
   "execution_count": 12,
   "id": "bc91dbef",
   "metadata": {},
   "outputs": [
    {
     "data": {
      "text/plain": [
       "'Hey vidyansh, how is your day going'"
      ]
     },
     "execution_count": 12,
     "metadata": {},
     "output_type": "execute_result"
    }
   ],
   "source": [
    "result[\"message\"]"
   ]
  },
  {
   "cell_type": "code",
   "execution_count": null,
   "id": "3156ef42",
   "metadata": {},
   "outputs": [],
   "source": []
  }
 ],
 "metadata": {
  "kernelspec": {
   "display_name": "base",
   "language": "python",
   "name": "python3"
  },
  "language_info": {
   "codemirror_mode": {
    "name": "ipython",
    "version": 3
   },
   "file_extension": ".py",
   "mimetype": "text/x-python",
   "name": "python",
   "nbconvert_exporter": "python",
   "pygments_lexer": "ipython3",
   "version": "3.12.7"
  }
 },
 "nbformat": 4,
 "nbformat_minor": 5
}
