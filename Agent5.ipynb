{
 "cells": [
  {
   "cell_type": "code",
   "execution_count": 5,
   "metadata": {},
   "outputs": [],
   "source": [
    "from typing import Dict , TypedDict, List\n",
    "from langgraph.graph import StateGraph,END\n",
    "import random"
   ]
  },
  {
   "cell_type": "code",
   "execution_count": 2,
   "metadata": {},
   "outputs": [],
   "source": [
    "class Agentstate(TypedDict):\n",
    "    name: str\n",
    "    number: List[int]\n",
    "    counter: int\n"
   ]
  },
  {
   "cell_type": "code",
   "execution_count": 4,
   "metadata": {},
   "outputs": [],
   "source": [
    "def greeting_node(state: Agentstate)-> Agentstate:\n",
    "    state[\"name\"]=f\"hey,{state[\"name\"]}\"\n",
    "    state[\"counter\"]=0\n",
    "    return state\n",
    "def random_node(state:Agentstate)->Agentstate:\n",
    "    state[\"number\"].append(random.randint(1,10))\n",
    "    state[\"counter\"]+=1\n",
    "\n",
    "    return state\n",
    "def should_continue(state:Agentstate)->Agentstate:\n",
    "    if state[\"counter\"]<5:\n",
    "        print(\"entering loop\",state[\"counter\"])\n",
    "        return \"loop\"\n",
    "    else:\n",
    "        return \"exit\"\n"
   ]
  },
  {
   "cell_type": "code",
   "execution_count": 7,
   "metadata": {},
   "outputs": [
    {
     "data": {
      "image/png": "[encoded data removed]",
      "text/plain": [
       "<langgraph.graph.state.CompiledStateGraph object at 0x10982acc0>"
      ]
     },
     "execution_count": 7,
     "metadata": {},
     "output_type": "execute_result"
    }
   ],
   "source": [
    "graph=StateGraph(Agentstate)\n",
    "graph.add_node(\"greet\",greeting_node)\n",
    "graph.add_node(\"random\",random_node)\n",
    "graph.add_edge(\"greet\",\"random\")\n",
    "graph.add_conditional_edges(\n",
    "    \"random\",\n",
    "    should_continue,\n",
    "    {\n",
    "        \"loop\":\"random\",\n",
    "        \"exit\": END\n",
    "    }\n",
    ")\n",
    "graph.set_entry_point(\"greet\")\n",
    "graph.compile()"
   ]
  },
  {
   "cell_type": "code",
   "execution_count": 8,
   "metadata": {},
   "outputs": [],
   "source": [
    "app=graph.compile()"
   ]
  },
  {
   "cell_type": "code",
   "execution_count": 9,
   "metadata": {},
   "outputs": [
    {
     "name": "stdout",
     "output_type": "stream",
     "text": [
      "entering loop 1\n",
      "entering loop 2\n",
      "entering loop 3\n",
      "entering loop 4\n"
     ]
    },
    {
     "data": {
      "text/plain": [
       "{'name': 'hey,vaibhav', 'number': [6, 4, 3, 4, 9], 'counter': 5}"
      ]
     },
     "execution_count": 9,
     "metadata": {},
     "output_type": "execute_result"
    }
   ],
   "source": [
    "app.invoke({\"name\":\"vaibhav\",\"number\":[],\"counter\":-1})"
   ]
  },
  {
   "cell_type": "code",
   "execution_count": null,
   "metadata": {},
   "outputs": [],
   "source": []
  }
 ],
 "metadata": {
  "kernelspec": {
   "display_name": "base",
   "language": "python",
   "name": "python3"
  },
  "language_info": {
   "codemirror_mode": {
    "name": "ipython",
    "version": 3
   },
   "file_extension": ".py",
   "mimetype": "text/x-python",
   "name": "python",
   "nbconvert_exporter": "python",
   "pygments_lexer": "ipython3",
   "version": "3.12.7"
  },
  "orig_nbformat": 4
 },
 "nbformat": 4,
 "nbformat_minor": 2
}
